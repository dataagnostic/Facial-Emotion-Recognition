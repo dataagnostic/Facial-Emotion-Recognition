{
 "cells": [
  {
   "cell_type": "code",
   "execution_count": 1,
   "id": "addressed-output",
   "metadata": {},
   "outputs": [],
   "source": [
    "import numpy as np\n",
    "import pandas as pd\n",
    "from matplotlib import pyplot as plt\n",
    "%matplotlib inline\n",
    "import seaborn as sns\n",
    "from keras.layers import Activation, Dropout, Conv2D, Dense\n",
    "from keras.layers import MaxPooling2D, AveragePooling2D, BatchNormalization\n",
    "from keras.layers import GlobalAveragePooling2D\n",
    "from keras.models import Sequential, load_model\n",
    "from keras.layers import Flatten\n",
    "from keras.models import Model\n",
    "from keras.callbacks import ModelCheckpoint\n",
    "from keras.preprocessing.image import ImageDataGenerator\n",
    "import cv2"
   ]
  },
  {
   "cell_type": "code",
   "execution_count": 2,
   "id": "victorian-recovery",
   "metadata": {},
   "outputs": [
    {
     "data": {
      "text/html": [
       "<div>\n",
       "<style scoped>\n",
       "    .dataframe tbody tr th:only-of-type {\n",
       "        vertical-align: middle;\n",
       "    }\n",
       "\n",
       "    .dataframe tbody tr th {\n",
       "        vertical-align: top;\n",
       "    }\n",
       "\n",
       "    .dataframe thead th {\n",
       "        text-align: right;\n",
       "    }\n",
       "</style>\n",
       "<table border=\"1\" class=\"dataframe\">\n",
       "  <thead>\n",
       "    <tr style=\"text-align: right;\">\n",
       "      <th></th>\n",
       "      <th>emotion</th>\n",
       "      <th>pixels</th>\n",
       "      <th>Usage</th>\n",
       "    </tr>\n",
       "  </thead>\n",
       "  <tbody>\n",
       "    <tr>\n",
       "      <th>0</th>\n",
       "      <td>0</td>\n",
       "      <td>70 80 82 72 58 58 60 63 54 58 60 48 89 115 121...</td>\n",
       "      <td>Training</td>\n",
       "    </tr>\n",
       "    <tr>\n",
       "      <th>1</th>\n",
       "      <td>0</td>\n",
       "      <td>151 150 147 155 148 133 111 140 170 174 182 15...</td>\n",
       "      <td>Training</td>\n",
       "    </tr>\n",
       "    <tr>\n",
       "      <th>2</th>\n",
       "      <td>2</td>\n",
       "      <td>231 212 156 164 174 138 161 173 182 200 106 38...</td>\n",
       "      <td>Training</td>\n",
       "    </tr>\n",
       "    <tr>\n",
       "      <th>3</th>\n",
       "      <td>4</td>\n",
       "      <td>24 32 36 30 32 23 19 20 30 41 21 22 32 34 21 1...</td>\n",
       "      <td>Training</td>\n",
       "    </tr>\n",
       "    <tr>\n",
       "      <th>4</th>\n",
       "      <td>6</td>\n",
       "      <td>4 0 0 0 0 0 0 0 0 0 0 0 3 15 23 28 48 50 58 84...</td>\n",
       "      <td>Training</td>\n",
       "    </tr>\n",
       "  </tbody>\n",
       "</table>\n",
       "</div>"
      ],
      "text/plain": [
       "   emotion                                             pixels     Usage\n",
       "0        0  70 80 82 72 58 58 60 63 54 58 60 48 89 115 121...  Training\n",
       "1        0  151 150 147 155 148 133 111 140 170 174 182 15...  Training\n",
       "2        2  231 212 156 164 174 138 161 173 182 200 106 38...  Training\n",
       "3        4  24 32 36 30 32 23 19 20 30 41 21 22 32 34 21 1...  Training\n",
       "4        6  4 0 0 0 0 0 0 0 0 0 0 0 3 15 23 28 48 50 58 84...  Training"
      ]
     },
     "execution_count": 2,
     "metadata": {},
     "output_type": "execute_result"
    }
   ],
   "source": [
    "df = pd.read_csv(\"fer2013/fer2013.csv\")\n",
    "df.head()"
   ]
  },
  {
   "cell_type": "code",
   "execution_count": 3,
   "id": "practical-sender",
   "metadata": {},
   "outputs": [
    {
     "data": {
      "text/plain": [
       "(35887, 3)"
      ]
     },
     "execution_count": 3,
     "metadata": {},
     "output_type": "execute_result"
    }
   ],
   "source": [
    "df.shape"
   ]
  },
  {
   "cell_type": "code",
   "execution_count": 4,
   "id": "laden-thunder",
   "metadata": {},
   "outputs": [
    {
     "data": {
      "text/plain": [
       "<AxesSubplot:xlabel='emotion', ylabel='count'>"
      ]
     },
     "execution_count": 4,
     "metadata": {},
     "output_type": "execute_result"
    },
    {
     "data": {
      "image/png": "[encoded data removed]",
      "text/plain": [
       "<Figure size 864x432 with 1 Axes>"
      ]
     },
     "metadata": {
      "needs_background": "light"
     },
     "output_type": "display_data"
    }
   ],
   "source": [
    "plt.figure(figsize=(12,6))\n",
    "sns.countplot(x='emotion', data=df)"
   ]
  },
  {
   "cell_type": "code",
   "execution_count": 5,
   "id": "8bccbb4b",
   "metadata": {},
   "outputs": [],
   "source": [
    "emotion_label = [\"Neutral\", \"Disgusted\", \"Fearful\", \"Happy\", \"Sad\", \"Surprised\", \"Neutral\"]"
   ]
  },
  {
   "cell_type": "code",
   "execution_count": 7,
   "id": "level-consent",
   "metadata": {},
   "outputs": [
    {
     "data": {
      "text/plain": [
       "3    8989\n",
       "6    6198\n",
       "4    6077\n",
       "2    5121\n",
       "0    4953\n",
       "5    4002\n",
       "1     547\n",
       "Name: emotion, dtype: int64"
      ]
     },
     "execution_count": 7,
     "metadata": {},
     "output_type": "execute_result"
    }
   ],
   "source": [
    "df['emotion'].value_counts()"
   ]
  },
  {
   "cell_type": "code",
   "execution_count": 8,
   "id": "emerging-generation",
   "metadata": {},
   "outputs": [
    {
     "data": {
      "text/plain": [
       "<AxesSubplot:xlabel='Usage', ylabel='count'>"
      ]
     },
     "execution_count": 8,
     "metadata": {},
     "output_type": "execute_result"
    },
    {
     "data": {
      "image/png": "[encoded data removed]",
      "text/plain": [
       "<Figure size 864x432 with 1 Axes>"
      ]
     },
     "metadata": {
      "needs_background": "light"
     },
     "output_type": "display_data"
    }
   ],
   "source": [
    "plt.figure(figsize=(12,6))\n",
    "sns.countplot(x='Usage', data=df)"
   ]
  },
  {
   "cell_type": "code",
   "execution_count": 9,
   "id": "tracked-carter",
   "metadata": {},
   "outputs": [
    {
     "data": {
      "text/plain": [
       "Training       28709\n",
       "PublicTest      3589\n",
       "PrivateTest     3589\n",
       "Name: Usage, dtype: int64"
      ]
     },
     "execution_count": 9,
     "metadata": {},
     "output_type": "execute_result"
    }
   ],
   "source": [
    "df['Usage'].value_counts()"
   ]
  },
  {
   "cell_type": "code",
   "execution_count": 10,
   "id": "unusual-coral",
   "metadata": {},
   "outputs": [],
   "source": [
    "image_size=(48,48)\n",
    "pixels = df['pixels'].tolist() # Converting the relevant column element into a list for each row\n",
    "width, height = 48, 48\n",
    "faces = []\n",
    "\n",
    "for pixel_sequence in pixels:\n",
    "    face = [int(pixel) for pixel in pixel_sequence.split(' ')] # Splitting the string by space character as a list\n",
    "    face = np.asarray(face).reshape(width, height) #converting the list to numpy array in size of 48*48\n",
    "    face = cv2.resize(face.astype('uint8'),image_size) #resize the image to have 48 cols (width) and 48 rows (height)\n",
    "    faces.append(face.astype('float32')) #makes the list of each images of 48*48 and their pixels in numpyarray form\n",
    "    \n",
    "faces = np.asarray(faces) #converting the list into numpy array\n",
    "faces = np.expand_dims(faces, -1) #Expand the shape of an array -1=last dimension => means color space\n",
    "emotions = pd.get_dummies(df['emotion']).to_numpy() #doing the one hot encoding type on emotions\n"
   ]
  },
  {
   "cell_type": "code",
   "execution_count": 11,
   "id": "vulnerable-bedroom",
   "metadata": {},
   "outputs": [
    {
     "name": "stdout",
     "output_type": "stream",
     "text": [
      "(35887, 48, 48, 1)\n",
      "<class 'numpy.ndarray'>\n",
      "[1 0 0 0 0 0 0]\n"
     ]
    }
   ],
   "source": [
    "print(faces.shape)\n",
    "print(type(faces))\n",
    "print(emotions[0])"
   ]
  },
  {
   "cell_type": "code",
   "execution_count": 12,
   "id": "framed-income",
   "metadata": {},
   "outputs": [],
   "source": [
    "# Traning data\n",
    "train_x = faces[:28709]\n",
    "train_y = emotions[:28709]\n",
    "\n",
    "# Validation data\n",
    "val_x = faces[28709:]\n",
    "val_y = emotions[28709:]\n",
    "\n",
    "train_data = (train_x, train_y)\n",
    "val_data = (val_x, val_y)"
   ]
  },
  {
   "cell_type": "code",
   "execution_count": 13,
   "id": "textile-kitchen",
   "metadata": {},
   "outputs": [
    {
     "name": "stdout",
     "output_type": "stream",
     "text": [
      "Training Pixels (28709, 48, 48, 1)\n",
      "Training labels (28709, 7)\n",
      "Validation Pixels (7178, 48, 48, 1)\n",
      "Validation labels (7178, 7)\n"
     ]
    }
   ],
   "source": [
    "print('Training Pixels',train_x.shape)  # ==> 4 dims -  no of images , width , height , color\n",
    "print('Training labels',train_y.shape)\n",
    "\n",
    "print('Validation Pixels',val_x.shape)\n",
    "print('Validation labels',val_y.shape)"
   ]
  },
  {
   "cell_type": "code",
   "execution_count": 14,
   "id": "81575373",
   "metadata": {},
   "outputs": [],
   "source": [
    "batch_size = 64 "
   ]
  },
  {
   "cell_type": "code",
   "execution_count": 16,
   "id": "4f409a11",
   "metadata": {},
   "outputs": [],
   "source": [
    "train_generator = ImageDataGenerator(rescale=1./255,\n",
    "                        rotation_range=10,\n",
    "                        width_shift_range=0.1,\n",
    "                        height_shift_range=0.1,\n",
    "                        zoom_range=.1,\n",
    "                        horizontal_flip=True)"
   ]
  },
  {
   "cell_type": "code",
   "execution_count": 17,
   "id": "cc65ae72",
   "metadata": {},
   "outputs": [],
   "source": [
    "train_set = train_generator.flow(train_x, train_y, batch_size)"
   ]
  },
  {
   "cell_type": "code",
   "execution_count": 18,
   "id": "22df85a8",
   "metadata": {},
   "outputs": [],
   "source": [
    "val_generator = ImageDataGenerator(rescale=1./255)"
   ]
  },
  {
   "cell_type": "code",
   "execution_count": 19,
   "id": "15a8159d",
   "metadata": {},
   "outputs": [],
   "source": [
    "val_set = val_generator.flow(val_x, val_y, batch_size)"
   ]
  },
  {
   "cell_type": "markdown",
   "id": "modified-moisture",
   "metadata": {},
   "source": [
    "## Train Model"
   ]
  },
  {
   "cell_type": "code",
   "execution_count": 20,
   "id": "commercial-wedding",
   "metadata": {},
   "outputs": [],
   "source": [
    "model = Sequential()\n",
    "# 1 - Convolution\n",
    "model.add(Conv2D(64,(3,3), padding='same', activation='relu', input_shape=(48, 48,1)))\n",
    "model.add(Conv2D(64,(3,3), padding='same', activation='relu'))\n",
    "model.add(BatchNormalization())\n",
    "model.add(MaxPooling2D(pool_size=(2, 2)))\n",
    "\n",
    "# 2nd Convolution layer\n",
    "model.add(Conv2D(128,(3,3), padding='same', activation='relu'))\n",
    "model.add(Conv2D(128,(3,3), padding='same', activation='relu'))\n",
    "model.add(BatchNormalization())\n",
    "model.add(MaxPooling2D(pool_size=(2, 2)))\n",
    "\n",
    "# 3rd Convolution layer\n",
    "model.add(Conv2D(256,(3,3), padding='same', activation='relu'))\n",
    "model.add(Conv2D(256,(3,3), padding='same', activation='relu'))\n",
    "model.add(BatchNormalization())\n",
    "model.add(MaxPooling2D(pool_size=(2, 2)))\n",
    "\n",
    "# 4th Convolution layer\n",
    "model.add(Conv2D(512,(3,3), padding='same', activation='relu'))\n",
    "model.add(Conv2D(512,(3,3), padding='same', activation='relu'))\n",
    "model.add(BatchNormalization())\n",
    "model.add(MaxPooling2D(pool_size=(2, 2)))\n",
    "\n",
    "# 5th Convolution layer\n",
    "# model.add(Conv2D(512,(3,3), padding='same', activation='relu'))\n",
    "# model.add(Conv2D(512,(3,3), padding='same', activation='relu'))\n",
    "# model.add(BatchNormalization())\n",
    "# model.add(MaxPooling2D(pool_size=(2, 2)))\n",
    "\n",
    "# Flattening or GlobalAveragePooling2D\n",
    "#model.add(Flatten())\n",
    "model.add(GlobalAveragePooling2D())\n",
    "\n",
    "# Fully connected layer 1st layer\n",
    "model.add(Dense(1024))\n",
    "model.add(BatchNormalization())\n",
    "model.add(Activation('relu'))\n",
    "model.add(Dropout(0.25))\n",
    "\n",
    "# Fully connected layer 2nd layer\n",
    "model.add(Dense(1024))\n",
    "model.add(BatchNormalization())\n",
    "model.add(Activation('relu'))\n",
    "model.add(Dropout(0.25))\n",
    "\n",
    "model.add(Dense(len(emotion_label), activation='softmax'))"
   ]
  },
  {
   "cell_type": "code",
   "execution_count": 21,
   "id": "arbitrary-sarah",
   "metadata": {},
   "outputs": [
    {
     "name": "stdout",
     "output_type": "stream",
     "text": [
      "Model: \"sequential\"\n",
      "_________________________________________________________________\n",
      "Layer (type)                 Output Shape              Param #   \n",
      "=================================================================\n",
      "conv2d (Conv2D)              (None, 48, 48, 64)        640       \n",
      "_________________________________________________________________\n",
      "conv2d_1 (Conv2D)            (None, 48, 48, 64)        36928     \n",
      "_________________________________________________________________\n",
      "batch_normalization (BatchNo (None, 48, 48, 64)        256       \n",
      "_________________________________________________________________\n",
      "max_pooling2d (MaxPooling2D) (None, 24, 24, 64)        0         \n",
      "_________________________________________________________________\n",
      "conv2d_2 (Conv2D)            (None, 24, 24, 128)       73856     \n",
      "_________________________________________________________________\n",
      "conv2d_3 (Conv2D)            (None, 24, 24, 128)       147584    \n",
      "_________________________________________________________________\n",
      "batch_normalization_1 (Batch (None, 24, 24, 128)       512       \n",
      "_________________________________________________________________\n",
      "max_pooling2d_1 (MaxPooling2 (None, 12, 12, 128)       0         \n",
      "_________________________________________________________________\n",
      "conv2d_4 (Conv2D)            (None, 12, 12, 256)       295168    \n",
      "_________________________________________________________________\n",
      "conv2d_5 (Conv2D)            (None, 12, 12, 256)       590080    \n",
      "_________________________________________________________________\n",
      "batch_normalization_2 (Batch (None, 12, 12, 256)       1024      \n",
      "_________________________________________________________________\n",
      "max_pooling2d_2 (MaxPooling2 (None, 6, 6, 256)         0         \n",
      "_________________________________________________________________\n",
      "conv2d_6 (Conv2D)            (None, 6, 6, 512)         1180160   \n",
      "_________________________________________________________________\n",
      "conv2d_7 (Conv2D)            (None, 6, 6, 512)         2359808   \n",
      "_________________________________________________________________\n",
      "batch_normalization_3 (Batch (None, 6, 6, 512)         2048      \n",
      "_________________________________________________________________\n",
      "max_pooling2d_3 (MaxPooling2 (None, 3, 3, 512)         0         \n",
      "_________________________________________________________________\n",
      "global_average_pooling2d (Gl (None, 512)               0         \n",
      "_________________________________________________________________\n",
      "dense (Dense)                (None, 1024)              525312    \n",
      "_________________________________________________________________\n",
      "batch_normalization_4 (Batch (None, 1024)              4096      \n",
      "_________________________________________________________________\n",
      "activation (Activation)      (None, 1024)              0         \n",
      "_________________________________________________________________\n",
      "dropout (Dropout)            (None, 1024)              0         \n",
      "_________________________________________________________________\n",
      "dense_1 (Dense)              (None, 1024)              1049600   \n",
      "_________________________________________________________________\n",
      "batch_normalization_5 (Batch (None, 1024)              4096      \n",
      "_________________________________________________________________\n",
      "activation_1 (Activation)    (None, 1024)              0         \n",
      "_________________________________________________________________\n",
      "dropout_1 (Dropout)          (None, 1024)              0         \n",
      "_________________________________________________________________\n",
      "dense_2 (Dense)              (None, 7)                 7175      \n",
      "=================================================================\n",
      "Total params: 6,278,343\n",
      "Trainable params: 6,272,327\n",
      "Non-trainable params: 6,016\n",
      "_________________________________________________________________\n"
     ]
    }
   ],
   "source": [
    "model.summary()"
   ]
  },
  {
   "cell_type": "code",
   "execution_count": 22,
   "id": "guilty-companion",
   "metadata": {},
   "outputs": [],
   "source": [
    "model.compile(optimizer='adam', loss='categorical_crossentropy', metrics=['accuracy'])"
   ]
  },
  {
   "cell_type": "code",
   "execution_count": 23,
   "id": "3a452652",
   "metadata": {},
   "outputs": [],
   "source": [
    "checkpoint = ModelCheckpoint('model/fer_bestmodel.hdf5', save_best_only=True, monitor=\"val_accuracy\", mode='max', save_weights_only=False)  "
   ]
  },
  {
   "cell_type": "code",
   "execution_count": 24,
   "id": "armed-genetics",
   "metadata": {},
   "outputs": [
    {
     "name": "stdout",
     "output_type": "stream",
     "text": [
      "Epoch 1/50\n",
      "449/449 [==============================] - 17s 33ms/step - loss: 2.0432 - accuracy: 0.2235 - val_loss: 1.9152 - val_accuracy: 0.1780\n",
      "Epoch 2/50\n",
      "449/449 [==============================] - 14s 32ms/step - loss: 1.6057 - accuracy: 0.3873 - val_loss: 1.5270 - val_accuracy: 0.4030\n",
      "Epoch 3/50\n",
      "449/449 [==============================] - 14s 31ms/step - loss: 1.3976 - accuracy: 0.4727 - val_loss: 1.4246 - val_accuracy: 0.4539\n",
      "Epoch 4/50\n",
      "449/449 [==============================] - 14s 32ms/step - loss: 1.2802 - accuracy: 0.5159 - val_loss: 1.4163 - val_accuracy: 0.4967\n",
      "Epoch 5/50\n",
      "449/449 [==============================] - 14s 31ms/step - loss: 1.1880 - accuracy: 0.5504 - val_loss: 1.2329 - val_accuracy: 0.5369\n",
      "Epoch 6/50\n",
      "449/449 [==============================] - 14s 31ms/step - loss: 1.1369 - accuracy: 0.5728 - val_loss: 1.1733 - val_accuracy: 0.5451\n",
      "Epoch 7/50\n",
      "449/449 [==============================] - 14s 31ms/step - loss: 1.1223 - accuracy: 0.5761 - val_loss: 1.2664 - val_accuracy: 0.5206\n",
      "Epoch 8/50\n",
      "449/449 [==============================] - 14s 32ms/step - loss: 1.0740 - accuracy: 0.5914 - val_loss: 1.0742 - val_accuracy: 0.5918\n",
      "Epoch 9/50\n",
      "449/449 [==============================] - 14s 31ms/step - loss: 1.0452 - accuracy: 0.5998 - val_loss: 1.0729 - val_accuracy: 0.5999\n",
      "Epoch 10/50\n",
      "449/449 [==============================] - 14s 31ms/step - loss: 0.9963 - accuracy: 0.6204 - val_loss: 1.0451 - val_accuracy: 0.6059\n",
      "Epoch 11/50\n",
      "449/449 [==============================] - 14s 31ms/step - loss: 0.9770 - accuracy: 0.6353 - val_loss: 1.0918 - val_accuracy: 0.5836\n",
      "Epoch 12/50\n",
      "449/449 [==============================] - 14s 31ms/step - loss: 0.9588 - accuracy: 0.6379 - val_loss: 1.0615 - val_accuracy: 0.6102\n",
      "Epoch 13/50\n",
      "449/449 [==============================] - 14s 32ms/step - loss: 0.9220 - accuracy: 0.6564 - val_loss: 1.0608 - val_accuracy: 0.6035\n",
      "Epoch 14/50\n",
      "449/449 [==============================] - 14s 31ms/step - loss: 0.9087 - accuracy: 0.6610 - val_loss: 1.0537 - val_accuracy: 0.6063\n",
      "Epoch 15/50\n",
      "449/449 [==============================] - 14s 31ms/step - loss: 0.8920 - accuracy: 0.6619 - val_loss: 0.9782 - val_accuracy: 0.6322\n",
      "Epoch 16/50\n",
      "449/449 [==============================] - 14s 32ms/step - loss: 0.8809 - accuracy: 0.6727 - val_loss: 1.0290 - val_accuracy: 0.6177\n",
      "Epoch 17/50\n",
      "449/449 [==============================] - 14s 31ms/step - loss: 0.8537 - accuracy: 0.6790 - val_loss: 1.0078 - val_accuracy: 0.6254\n",
      "Epoch 18/50\n",
      "449/449 [==============================] - 14s 31ms/step - loss: 0.8299 - accuracy: 0.6878 - val_loss: 1.0380 - val_accuracy: 0.6266\n",
      "Epoch 19/50\n",
      "449/449 [==============================] - 14s 31ms/step - loss: 0.8081 - accuracy: 0.6998 - val_loss: 1.0238 - val_accuracy: 0.6154\n",
      "Epoch 20/50\n",
      "449/449 [==============================] - 14s 31ms/step - loss: 0.7923 - accuracy: 0.7055 - val_loss: 1.0230 - val_accuracy: 0.6248\n",
      "Epoch 21/50\n",
      "449/449 [==============================] - 14s 31ms/step - loss: 0.7701 - accuracy: 0.7115 - val_loss: 0.9605 - val_accuracy: 0.6460\n",
      "Epoch 22/50\n",
      "449/449 [==============================] - 14s 31ms/step - loss: 0.7485 - accuracy: 0.7287 - val_loss: 0.9947 - val_accuracy: 0.6397\n",
      "Epoch 23/50\n",
      "449/449 [==============================] - 14s 32ms/step - loss: 0.7331 - accuracy: 0.7278 - val_loss: 1.0027 - val_accuracy: 0.6407\n",
      "Epoch 24/50\n",
      "449/449 [==============================] - 15s 34ms/step - loss: 0.7184 - accuracy: 0.7311 - val_loss: 0.9904 - val_accuracy: 0.6459\n",
      "Epoch 25/50\n",
      "449/449 [==============================] - 15s 34ms/step - loss: 0.6942 - accuracy: 0.7378 - val_loss: 1.0076 - val_accuracy: 0.6521\n",
      "Epoch 26/50\n",
      "449/449 [==============================] - 15s 33ms/step - loss: 0.6884 - accuracy: 0.7462 - val_loss: 1.0049 - val_accuracy: 0.6382\n",
      "Epoch 27/50\n",
      "449/449 [==============================] - 15s 33ms/step - loss: 0.6656 - accuracy: 0.7554 - val_loss: 0.9690 - val_accuracy: 0.6580\n",
      "Epoch 28/50\n",
      "449/449 [==============================] - 15s 33ms/step - loss: 0.6273 - accuracy: 0.7663 - val_loss: 1.1193 - val_accuracy: 0.6255\n",
      "Epoch 29/50\n",
      "449/449 [==============================] - 15s 33ms/step - loss: 0.6285 - accuracy: 0.7662 - val_loss: 0.9892 - val_accuracy: 0.6688\n",
      "Epoch 30/50\n",
      "449/449 [==============================] - 15s 33ms/step - loss: 0.6137 - accuracy: 0.7712 - val_loss: 0.9875 - val_accuracy: 0.6645\n",
      "Epoch 31/50\n",
      "449/449 [==============================] - 15s 33ms/step - loss: 0.5940 - accuracy: 0.7814 - val_loss: 1.0526 - val_accuracy: 0.6521\n",
      "Epoch 32/50\n",
      "449/449 [==============================] - 15s 33ms/step - loss: 0.5783 - accuracy: 0.7883 - val_loss: 1.1134 - val_accuracy: 0.6374\n",
      "Epoch 33/50\n",
      "449/449 [==============================] - 15s 34ms/step - loss: 0.5438 - accuracy: 0.8030 - val_loss: 1.1637 - val_accuracy: 0.6354\n",
      "Epoch 34/50\n",
      "449/449 [==============================] - 15s 33ms/step - loss: 0.5453 - accuracy: 0.7949 - val_loss: 1.0530 - val_accuracy: 0.6519\n",
      "Epoch 35/50\n",
      "449/449 [==============================] - 15s 34ms/step - loss: 0.5256 - accuracy: 0.8065 - val_loss: 1.1371 - val_accuracy: 0.6498\n",
      "Epoch 36/50\n",
      "449/449 [==============================] - 15s 34ms/step - loss: 0.5273 - accuracy: 0.8047 - val_loss: 1.1347 - val_accuracy: 0.6489\n",
      "Epoch 37/50\n",
      "449/449 [==============================] - 15s 33ms/step - loss: 0.4926 - accuracy: 0.8165 - val_loss: 1.2473 - val_accuracy: 0.6315\n",
      "Epoch 38/50\n",
      "449/449 [==============================] - 15s 33ms/step - loss: 0.4995 - accuracy: 0.8154 - val_loss: 1.2313 - val_accuracy: 0.6369\n",
      "Epoch 39/50\n",
      "449/449 [==============================] - 15s 33ms/step - loss: 0.4707 - accuracy: 0.8274 - val_loss: 1.0835 - val_accuracy: 0.6623\n",
      "Epoch 40/50\n",
      "449/449 [==============================] - 15s 34ms/step - loss: 0.4575 - accuracy: 0.8308 - val_loss: 1.1806 - val_accuracy: 0.6418\n",
      "Epoch 41/50\n",
      "449/449 [==============================] - 15s 33ms/step - loss: 0.4618 - accuracy: 0.8288 - val_loss: 1.1215 - val_accuracy: 0.6560- ETA: 6s - - ETA: 0s - loss: 0.4618 - accuracy: 0.\n",
      "Epoch 42/50\n",
      "449/449 [==============================] - 15s 33ms/step - loss: 0.4423 - accuracy: 0.8366 - val_loss: 1.1274 - val_accuracy: 0.6595\n",
      "Epoch 43/50\n",
      "449/449 [==============================] - 15s 33ms/step - loss: 0.4291 - accuracy: 0.8403 - val_loss: 1.1113 - val_accuracy: 0.6573\n",
      "Epoch 44/50\n",
      "449/449 [==============================] - 15s 33ms/step - loss: 0.4231 - accuracy: 0.8443 - val_loss: 1.2176 - val_accuracy: 0.6477\n",
      "Epoch 45/50\n",
      "449/449 [==============================] - 15s 34ms/step - loss: 0.4074 - accuracy: 0.8537 - val_loss: 1.1658 - val_accuracy: 0.6732\n",
      "Epoch 46/50\n",
      "449/449 [==============================] - 15s 34ms/step - loss: 0.3999 - accuracy: 0.8513 - val_loss: 1.3261 - val_accuracy: 0.6496\n",
      "Epoch 47/50\n",
      "449/449 [==============================] - 15s 34ms/step - loss: 0.3874 - accuracy: 0.8579 - val_loss: 1.2938 - val_accuracy: 0.6530\n",
      "Epoch 48/50\n",
      "449/449 [==============================] - 15s 33ms/step - loss: 0.3875 - accuracy: 0.8589 - val_loss: 1.2639 - val_accuracy: 0.6573\n",
      "Epoch 49/50\n",
      "449/449 [==============================] - 15s 34ms/step - loss: 0.3822 - accuracy: 0.8607 - val_loss: 1.2607 - val_accuracy: 0.6542\n",
      "Epoch 50/50\n",
      "449/449 [==============================] - 15s 34ms/step - loss: 0.3622 - accuracy: 0.8660 - val_loss: 1.2503 - val_accuracy: 0.6656\n"
     ]
    }
   ],
   "source": [
    "hist= model.fit(train_set,\n",
    "        epochs = 50,\n",
    "        validation_data = val_set,\n",
    "        callbacks=[checkpoint])"
   ]
  },
  {
   "cell_type": "code",
   "execution_count": 25,
   "id": "776c148b",
   "metadata": {},
   "outputs": [
    {
     "name": "stdout",
     "output_type": "stream",
     "text": [
      "Test results (model from the last epoch): [('loss', 1.2502785921096802), ('accuracy', 0.6656450033187866)]\n",
      "Test results (model from the best epoch): [('loss', 1.1657873392105103), ('accuracy', 0.6731680035591125)]\n"
     ]
    }
   ],
   "source": [
    "# Evaluate the model from the last epoch\n",
    "score = model.evaluate(val_set, verbose=0 )\n",
    "print( \"Test results (model from the last epoch):\", [ (model.metrics_names[i], score[i]) for i in range(len(score)) ] )\n",
    "\n",
    "# Load and evaluate the model from the best epoch\n",
    "best_model = load_model('model/fer_bestmodel.hdf5', compile=True )\n",
    "score = best_model.evaluate(val_set, verbose=0 )\n",
    "print( \"Test results (model from the best epoch):\", [ (best_model.metrics_names[i], score[i]) for i in range(len(score)) ] )"
   ]
  },
  {
   "cell_type": "code",
   "execution_count": 26,
   "id": "protective-gardening",
   "metadata": {},
   "outputs": [
    {
     "data": {
      "image/png": "[encoded data removed]",
      "text/plain": [
       "<Figure size 432x288 with 1 Axes>"
      ]
     },
     "metadata": {
      "needs_background": "light"
     },
     "output_type": "display_data"
    }
   ],
   "source": [
    "# loss\n",
    "plt.plot(hist.history['loss'], label='train loss')\n",
    "plt.plot(hist.history['val_loss'], label='val loss')\n",
    "plt.title('Model loss')\n",
    "plt.legend()\n",
    "plt.show()"
   ]
  },
  {
   "cell_type": "code",
   "execution_count": 27,
   "id": "4a8e9d0c",
   "metadata": {},
   "outputs": [
    {
     "data": {
      "image/png": "[encoded data removed]",
      "text/plain": [
       "<Figure size 432x288 with 1 Axes>"
      ]
     },
     "metadata": {
      "needs_background": "light"
     },
     "output_type": "display_data"
    }
   ],
   "source": [
    "# accuracies\n",
    "plt.plot(hist.history['accuracy'], label='train acc')\n",
    "plt.plot(hist.history['val_accuracy'], label='val acc')\n",
    "plt.title('Model Accuracy')\n",
    "plt.legend()\n",
    "plt.show()"
   ]
  }
 ],
 "metadata": {
  "kernelspec": {
   "display_name": "Python 3 (ipykernel)",
   "language": "python",
   "name": "python3"
  },
  "language_info": {
   "codemirror_mode": {
    "name": "ipython",
    "version": 3
   },
   "file_extension": ".py",
   "mimetype": "text/x-python",
   "name": "python",
   "nbconvert_exporter": "python",
   "pygments_lexer": "ipython3",
   "version": "3.7.3"
  }
 },
 "nbformat": 4,
 "nbformat_minor": 5
}
